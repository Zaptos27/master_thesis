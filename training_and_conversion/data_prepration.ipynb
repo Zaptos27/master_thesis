{
 "cells": [
  {
   "cell_type": "code",
   "execution_count": 4,
   "metadata": {},
   "outputs": [],
   "source": [
    "import uproot\n",
    "import numpy as np\n",
    "import tensorflow as tf\n",
    "import tensorflow_datasets as tfds\n",
    "import glob\n",
    "batch = 2048\n",
    "import matplotlib.pyplot as plt"
   ]
  },
  {
   "cell_type": "code",
   "execution_count": 5,
   "metadata": {},
   "outputs": [],
   "source": [
    "l = glob.glob(\"/home/zaptos/Code/data/**/*.root\", recursive=True)"
   ]
  },
  {
   "cell_type": "code",
   "execution_count": 6,
   "metadata": {},
   "outputs": [
    {
     "name": "stdout",
     "output_type": "stream",
     "text": [
      "/home/zaptos/Code/data/data_for_seeding/RDORootFiles/v3p1/user.sabidi.PhPy8EG_AZNLO_Ztautau.e8481_s4203_r14697.v3.1_EXT0/user.sabidi.37663841.EXT0._000003.CluserInfo.root\n",
      "/home/zaptos/Code/data/data_for_seeding/RDORootFiles/v3p1/user.sabidi.PhPy8EG_AZNLO_Ztautau.e8481_s4203_r14697.v3.1_EXT0/user.sabidi.37663841.EXT0._000001.CluserInfo.root\n"
     ]
    },
    {
     "ename": "KeyboardInterrupt",
     "evalue": "",
     "output_type": "error",
     "traceback": [
      "\u001b[0;31m---------------------------------------------------------------------------\u001b[0m",
      "\u001b[0;31mKeyboardInterrupt\u001b[0m                         Traceback (most recent call last)",
      "Cell \u001b[0;32mIn[6], line 29\u001b[0m\n\u001b[1;32m     26\u001b[0m     \u001b[38;5;66;03m# Reshape into rolling window of n=3\u001b[39;00m\n\u001b[1;32m     27\u001b[0m     \u001b[38;5;66;03m#print(track)\u001b[39;00m\n\u001b[1;32m     28\u001b[0m     track \u001b[38;5;241m=\u001b[39m np\u001b[38;5;241m.\u001b[39mlib\u001b[38;5;241m.\u001b[39mstride_tricks\u001b[38;5;241m.\u001b[39msliding_window_view(track, (n,\u001b[38;5;241m3\u001b[39m))\u001b[38;5;241m.\u001b[39mreshape(\u001b[38;5;241m-\u001b[39m\u001b[38;5;241m1\u001b[39m,n,\u001b[38;5;241m3\u001b[39m)\n\u001b[0;32m---> 29\u001b[0m     inp \u001b[38;5;241m=\u001b[39m \u001b[43mnp\u001b[49m\u001b[38;5;241;43m.\u001b[39;49m\u001b[43mvstack\u001b[49m\u001b[43m(\u001b[49m\u001b[43m(\u001b[49m\u001b[43minp\u001b[49m\u001b[43m,\u001b[49m\u001b[43mtrack\u001b[49m\u001b[43m[\u001b[49m\u001b[43m:\u001b[49m\u001b[38;5;241;43m-\u001b[39;49m\u001b[38;5;241;43m1\u001b[39;49m\u001b[43m]\u001b[49m\u001b[43m)\u001b[49m\u001b[43m)\u001b[49m\n\u001b[1;32m     30\u001b[0m     tar \u001b[38;5;241m=\u001b[39m np\u001b[38;5;241m.\u001b[39mvstack((tar, np\u001b[38;5;241m.\u001b[39marray([t[\u001b[38;5;241m-\u001b[39m\u001b[38;5;241m1\u001b[39m] \u001b[38;5;28;01mfor\u001b[39;00m t \u001b[38;5;129;01min\u001b[39;00m track[\u001b[38;5;241m1\u001b[39m:]])))\n\u001b[1;32m     32\u001b[0m np\u001b[38;5;241m.\u001b[39msave(\u001b[38;5;124mf\u001b[39m\u001b[38;5;124m\"\u001b[39m\u001b[38;5;124mdata/\u001b[39m\u001b[38;5;132;01m{\u001b[39;00mi\u001b[38;5;132;01m}\u001b[39;00m\u001b[38;5;124m_input.npy\u001b[39m\u001b[38;5;124m\"\u001b[39m, inp)\n",
      "File \u001b[0;32m<__array_function__ internals>:180\u001b[0m, in \u001b[0;36mvstack\u001b[0;34m(*args, **kwargs)\u001b[0m\n",
      "File \u001b[0;32m~/miniconda3/lib/python3.10/site-packages/numpy/core/shape_base.py:282\u001b[0m, in \u001b[0;36mvstack\u001b[0;34m(tup)\u001b[0m\n\u001b[1;32m    280\u001b[0m \u001b[38;5;28;01mif\u001b[39;00m \u001b[38;5;129;01mnot\u001b[39;00m \u001b[38;5;28misinstance\u001b[39m(arrs, \u001b[38;5;28mlist\u001b[39m):\n\u001b[1;32m    281\u001b[0m     arrs \u001b[38;5;241m=\u001b[39m [arrs]\n\u001b[0;32m--> 282\u001b[0m \u001b[38;5;28;01mreturn\u001b[39;00m \u001b[43m_nx\u001b[49m\u001b[38;5;241;43m.\u001b[39;49m\u001b[43mconcatenate\u001b[49m\u001b[43m(\u001b[49m\u001b[43marrs\u001b[49m\u001b[43m,\u001b[49m\u001b[43m \u001b[49m\u001b[38;5;241;43m0\u001b[39;49m\u001b[43m)\u001b[49m\n",
      "File \u001b[0;32m<__array_function__ internals>:180\u001b[0m, in \u001b[0;36mconcatenate\u001b[0;34m(*args, **kwargs)\u001b[0m\n",
      "\u001b[0;31mKeyboardInterrupt\u001b[0m: "
     ]
    }
   ],
   "source": [
    "branches = [\"SP_x\", \"SP_y\", \"SP_z\"]\n",
    "pad_lenght = 3\n",
    "n=3\n",
    "\n",
    "for j, file in enumerate(l):\n",
    "    inp = np.empty((0,3,3))\n",
    "    tar = np.empty((0,3))\n",
    "    print(file)\n",
    "    with uproot.open(file) as f:\n",
    "        coordinateTree = f[\"SPInfo\"]\n",
    "        coordinate_dict = coordinateTree.arrays(branches, library='np')\n",
    "    c1 = [c for c in coordinate_dict[branches[0]] if len(c) > 0]\n",
    "    c2 = [c for c in coordinate_dict[branches[1]] if len(c) > 0]\n",
    "    c3 = [c for c in coordinate_dict[branches[2]] if len(c) > 0]\n",
    "\n",
    "\n",
    "    for i in range(len(c1)):\n",
    "        c1_arr = c1[i].reshape(-1,1) / 1015\n",
    "        c2_arr = c2[i].reshape(-1,1) / 1015\n",
    "        c3_arr = c3[i].reshape(-1,1) / 3500\n",
    "        track = np.hstack((c1_arr, c2_arr, c3_arr))\n",
    "        _, idx = np.unique(track, axis=0, return_index=True)\n",
    "        track = track[np.sort(idx)]\n",
    "        #print(track) \n",
    "        track = np.pad(track, ((0, pad_lenght),(0,0)))\n",
    "        # Reshape into rolling window of n=3\n",
    "        #print(track)\n",
    "        track = np.lib.stride_tricks.sliding_window_view(track, (n,3)).reshape(-1,n,3)\n",
    "        inp = np.vstack((inp,track[:-1]))\n",
    "        tar = np.vstack((tar, np.array([t[-1] for t in track[1:]])))\n",
    "\n",
    "    np.save(f\"data/{j}_input.npy\", inp)\n",
    "    np.save(f\"data/{j}_target.npy\", tar)"
   ]
  }
 ],
 "metadata": {
  "kernelspec": {
   "display_name": "base",
   "language": "python",
   "name": "python3"
  },
  "language_info": {
   "codemirror_mode": {
    "name": "ipython",
    "version": 3
   },
   "file_extension": ".py",
   "mimetype": "text/x-python",
   "name": "python",
   "nbconvert_exporter": "python",
   "pygments_lexer": "ipython3",
   "version": "3.10.10"
  }
 },
 "nbformat": 4,
 "nbformat_minor": 2
}
