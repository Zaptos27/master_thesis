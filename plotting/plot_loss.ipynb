{
 "cells": [
  {
   "cell_type": "code",
   "execution_count": 1,
   "metadata": {},
   "outputs": [
    {
     "name": "stderr",
     "output_type": "stream",
     "text": [
      "/home/zaptos/miniconda3/envs/trackml/lib/python3.9/site-packages/tqdm/auto.py:21: TqdmWarning: IProgress not found. Please update jupyter and ipywidgets. See https://ipywidgets.readthedocs.io/en/stable/user_install.html\n",
      "  from .autonotebook import tqdm as notebook_tqdm\n",
      "2024-12-17 03:22:14.829134: I tensorflow/core/platform/cpu_feature_guard.cc:182] This TensorFlow binary is optimized to use available CPU instructions in performance-critical operations.\n",
      "To enable the following instructions: AVX2 FMA, in other operations, rebuild TensorFlow with the appropriate compiler flags.\n",
      "2024-12-17 03:22:15.359110: W tensorflow/compiler/tf2tensorrt/utils/py_utils.cc:38] TF-TRT Warning: Could not find TensorRT\n"
     ]
    }
   ],
   "source": [
    "import pickle\n",
    "import numpy as np\n",
    "import matplotlib.pyplot as plt\n",
    "import seaborn as sns\n",
    "import tensorflow_datasets as tfds\n",
    "import tensorflow as tf\n",
    "import onnx\n",
    "import onnxruntime as ort\n",
    "\n",
    "\n",
    "# set the legend frame\n",
    "plt.rcParams['legend.frameon'] = True\n",
    "plt.rcParams['legend.facecolor'] = 'white'\n",
    "plt.rcParams['legend.edgecolor'] = 'black'\n",
    "plt.rcParams['legend.framealpha'] = 1\n",
    "\n",
    "# set the line width\n",
    "plt.rcParams['lines.linewidth'] = 2\n",
    "\n",
    "# set the point size\n",
    "plt.rcParams['lines.markersize'] = 8\n",
    "\n",
    "# set the error bar capsize\n",
    "plt.rcParams['errorbar.capsize'] = 5\n",
    "\n",
    "# set the font size\n",
    "plt.rcParams['font.size'] = 16\n",
    "\n",
    "# set the figure dpi\n",
    "plt.rcParams['figure.dpi'] = 192\n",
    "\n",
    "# set the save figure format\n",
    "plt.rcParams['savefig.format'] = 'pdf'\n",
    "\n",
    "sns.set_style(\"whitegrid\")\n",
    "sns.set_style(\"ticks\")\n",
    "sns.set_context(\"paper\")\n",
    "\n",
    "\n",
    "networks = [\"mlp\", \"mlp_wide\", \"mlp_deep\", \"mlp_deep_wide\", \"mlp_conv\", \"conv1d\", \"conv2d\", \"depthwise_conv1d\", \"separable_conv2d\", \"separable_conv1d\", \"mlp_piecewise\", \"mlp_repeat\", \"mlp_big\", \"mlp_piecewise2\", \"lstm\", \"mlp_small\"]\n",
    "\n",
    "\n"
   ]
  },
  {
   "cell_type": "code",
   "execution_count": 2,
   "metadata": {},
   "outputs": [],
   "source": [
    "version = \"0.0.0\"\n",
    "old_cluster = \"7473664\"\n",
    "fl = 16\n",
    "\n",
    "if version[2] == \"0\":\n",
    "    windowsize = 3\n",
    "else:\n",
    "    windowsize = 4"
   ]
  },
  {
   "cell_type": "code",
   "execution_count": 3,
   "metadata": {},
   "outputs": [
    {
     "name": "stderr",
     "output_type": "stream",
     "text": [
      "/tmp/ipykernel_321809/1159785072.py:8: UserWarning: Attempt to set non-positive ylim on a log-scaled axis will be ignored.\n",
      "  plt.ylim(0,1e-3)\n"
     ]
    },
    {
     "name": "stdout",
     "output_type": "stream",
     "text": [
      "Network: mlp\n",
      "Loss: 1.011369840853149e-05\n",
      "Epoch: 2012\n"
     ]
    },
    {
     "name": "stderr",
     "output_type": "stream",
     "text": [
      "/tmp/ipykernel_321809/1159785072.py:8: UserWarning: Attempt to set non-positive ylim on a log-scaled axis will be ignored.\n",
      "  plt.ylim(0,1e-3)\n"
     ]
    },
    {
     "name": "stdout",
     "output_type": "stream",
     "text": [
      "Network: mlp_wide\n",
      "Loss: 8.648045877635013e-06\n",
      "Epoch: 1492\n"
     ]
    },
    {
     "name": "stderr",
     "output_type": "stream",
     "text": [
      "/tmp/ipykernel_321809/1159785072.py:8: UserWarning: Attempt to set non-positive ylim on a log-scaled axis will be ignored.\n",
      "  plt.ylim(0,1e-3)\n"
     ]
    },
    {
     "name": "stdout",
     "output_type": "stream",
     "text": [
      "Network: mlp_deep\n",
      "Loss: 8.500281182932667e-06\n",
      "Epoch: 2007\n"
     ]
    },
    {
     "name": "stderr",
     "output_type": "stream",
     "text": [
      "/tmp/ipykernel_321809/1159785072.py:8: UserWarning: Attempt to set non-positive ylim on a log-scaled axis will be ignored.\n",
      "  plt.ylim(0,1e-3)\n"
     ]
    },
    {
     "name": "stdout",
     "output_type": "stream",
     "text": [
      "Network: mlp_deep_wide\n",
      "Loss: 7.521126917708898e-06\n",
      "Epoch: 2003\n"
     ]
    },
    {
     "name": "stderr",
     "output_type": "stream",
     "text": [
      "/tmp/ipykernel_321809/1159785072.py:8: UserWarning: Attempt to set non-positive ylim on a log-scaled axis will be ignored.\n",
      "  plt.ylim(0,1e-3)\n"
     ]
    },
    {
     "name": "stdout",
     "output_type": "stream",
     "text": [
      "Network: mlp_conv\n",
      "Loss: 7.954631655593403e-06\n",
      "Epoch: 2029\n",
      "Network: conv1d\n",
      "Loss: 1.2470696674427018e-05\n",
      "Epoch: 2008\n"
     ]
    },
    {
     "name": "stderr",
     "output_type": "stream",
     "text": [
      "/tmp/ipykernel_321809/1159785072.py:8: UserWarning: Attempt to set non-positive ylim on a log-scaled axis will be ignored.\n",
      "  plt.ylim(0,1e-3)\n",
      "/tmp/ipykernel_321809/1159785072.py:8: UserWarning: Attempt to set non-positive ylim on a log-scaled axis will be ignored.\n",
      "  plt.ylim(0,1e-3)\n"
     ]
    },
    {
     "name": "stdout",
     "output_type": "stream",
     "text": [
      "Network: conv2d\n",
      "Loss: 9.067153769137803e-06\n",
      "Epoch: 2004\n",
      "Network: depthwise_conv1d\n",
      "Loss: 1.7756172383087687e-05\n",
      "Epoch: 2027\n"
     ]
    },
    {
     "name": "stderr",
     "output_type": "stream",
     "text": [
      "/tmp/ipykernel_321809/1159785072.py:8: UserWarning: Attempt to set non-positive ylim on a log-scaled axis will be ignored.\n",
      "  plt.ylim(0,1e-3)\n",
      "/tmp/ipykernel_321809/1159785072.py:8: UserWarning: Attempt to set non-positive ylim on a log-scaled axis will be ignored.\n",
      "  plt.ylim(0,1e-3)\n"
     ]
    },
    {
     "name": "stdout",
     "output_type": "stream",
     "text": [
      "Network: separable_conv2d\n",
      "Loss: 0.0003167075919918716\n",
      "Epoch: 2028\n"
     ]
    },
    {
     "name": "stderr",
     "output_type": "stream",
     "text": [
      "/tmp/ipykernel_321809/1159785072.py:8: UserWarning: Attempt to set non-positive ylim on a log-scaled axis will be ignored.\n",
      "  plt.ylim(0,1e-3)\n"
     ]
    },
    {
     "name": "stdout",
     "output_type": "stream",
     "text": [
      "Network: separable_conv1d\n",
      "Loss: 1.0620262401062064e-05\n",
      "Epoch: 2013\n"
     ]
    },
    {
     "name": "stderr",
     "output_type": "stream",
     "text": [
      "/tmp/ipykernel_321809/1159785072.py:8: UserWarning: Attempt to set non-positive ylim on a log-scaled axis will be ignored.\n",
      "  plt.ylim(0,1e-3)\n"
     ]
    },
    {
     "name": "stdout",
     "output_type": "stream",
     "text": [
      "Network: mlp_piecewise\n",
      "Loss: 8.65070160216419e-06\n",
      "Epoch: 2023\n"
     ]
    },
    {
     "name": "stderr",
     "output_type": "stream",
     "text": [
      "/tmp/ipykernel_321809/1159785072.py:8: UserWarning: Attempt to set non-positive ylim on a log-scaled axis will be ignored.\n",
      "  plt.ylim(0,1e-3)\n"
     ]
    },
    {
     "name": "stdout",
     "output_type": "stream",
     "text": [
      "Network: mlp_repeat\n",
      "Loss: 1.0465118066349532e-05\n",
      "Epoch: 2012\n"
     ]
    },
    {
     "name": "stderr",
     "output_type": "stream",
     "text": [
      "/tmp/ipykernel_321809/1159785072.py:8: UserWarning: Attempt to set non-positive ylim on a log-scaled axis will be ignored.\n",
      "  plt.ylim(0,1e-3)\n"
     ]
    },
    {
     "name": "stdout",
     "output_type": "stream",
     "text": [
      "Network: mlp_big\n",
      "Loss: 7.44269163988065e-06\n",
      "Epoch: 2020\n"
     ]
    },
    {
     "name": "stderr",
     "output_type": "stream",
     "text": [
      "/tmp/ipykernel_321809/1159785072.py:8: UserWarning: Attempt to set non-positive ylim on a log-scaled axis will be ignored.\n",
      "  plt.ylim(0,1e-3)\n"
     ]
    },
    {
     "name": "stdout",
     "output_type": "stream",
     "text": [
      "Network: mlp_piecewise2\n",
      "Loss: 7.703703886363655e-06\n",
      "Epoch: 2022\n"
     ]
    },
    {
     "name": "stderr",
     "output_type": "stream",
     "text": [
      "/tmp/ipykernel_321809/1159785072.py:8: UserWarning: Attempt to set non-positive ylim on a log-scaled axis will be ignored.\n",
      "  plt.ylim(0,1e-3)\n"
     ]
    },
    {
     "name": "stdout",
     "output_type": "stream",
     "text": [
      "Network: lstm\n",
      "Loss: 8.172560228558723e-06\n",
      "Epoch: 2025\n"
     ]
    },
    {
     "name": "stderr",
     "output_type": "stream",
     "text": [
      "/tmp/ipykernel_321809/1159785072.py:8: UserWarning: Attempt to set non-positive ylim on a log-scaled axis will be ignored.\n",
      "  plt.ylim(0,1e-3)\n"
     ]
    },
    {
     "name": "stdout",
     "output_type": "stream",
     "text": [
      "Network: mlp_small\n",
      "Loss: 0.00017052142356988043\n",
      "Epoch: 2014\n"
     ]
    }
   ],
   "source": [
    "minloss = []\n",
    "for i, network in enumerate(networks):\n",
    "    loss = pickle.load(open(f\"../../final/loss_info/{network}{old_cluster}.pkl\", \"rb\"))\n",
    "    plt.semilogy(loss['loss'],'s', color='orangered', label='Training Loss', markersize=4)\n",
    "    plt.semilogy(loss['val_loss'],'o', color='k', label='Validation Loss', markersize=1)\n",
    "    plt.xlabel('Epoch')\n",
    "    plt.ylabel('Loss')\n",
    "    plt.ylim(0,1e-3)\n",
    "    plt.legend()\n",
    "    plt.grid()\n",
    "    plt.title(network+f' Loss for window size of {windowsize}'+ (\" inside-out\" if version[-1]==\"0\" else \" outside-in\"))\n",
    "    # Insert the minimum loss and the epoch at which it was achieved with 3 digit precision\n",
    "    # make a box like the legend with the minimum loss and the epoch at which it was achieved with 3 digit precision\n",
    "    if network == \"separable_conv2d\":\n",
    "        plt.text(1000, 6e-4, f\"Min Validation Loss: {min(loss['val_loss']):.3g}\\nEpoch: {np.argmin(loss['val_loss'])}\", bbox=dict(facecolor='white', edgecolor='black', boxstyle='round,pad=0.5'))\n",
    "        plt.text(1000, 5e-4, f\"Min Training Loss: {min(loss['loss']):.3g}\\nEpoch: {np.argmin(loss['loss'])}\", bbox=dict(facecolor='white', edgecolor='black', boxstyle='round,pad=0.5'))\n",
    "    elif network == \"mlp_small\":\n",
    "        plt.text(1000, 2e-4, f\"Min Validation Loss: {min(loss['val_loss']):.3g}\\nEpoch: {np.argmin(loss['val_loss'])}\", bbox=dict(facecolor='white', edgecolor='black', boxstyle='round,pad=0.5'))\n",
    "        plt.text(1000, 3e-4, f\"Min Training Loss: {min(loss['loss']):.3g}\\nEpoch: {np.argmin(loss['loss'])}\", bbox=dict(facecolor='white', edgecolor='black', boxstyle='round,pad=0.5'))\n",
    "    else:\n",
    "        plt.text(1000, 2e-4, f\"Min Validation Loss: {min(loss['val_loss']):.3g}\\nEpoch: {np.argmin(loss['val_loss'])}\", bbox=dict(facecolor='white', edgecolor='black', boxstyle='round,pad=0.5'))\n",
    "        plt.text(1000, 1e-4, f\"Min Training Loss: {min(loss['loss']):.3g}\\nEpoch: {np.argmin(loss['loss'])}\", bbox=dict(facecolor='white', edgecolor='black', boxstyle='round,pad=0.5'))\n",
    "    #plt.show()\n",
    "    plt.savefig(f\"../../final/loss_plot/{network}_{version}.pdf\")\n",
    "    plt.close()\n",
    "    print(f\"Network: {network}\")\n",
    "    print(f\"Loss: {min(loss['val_loss'])}\")\n",
    "    minloss.append(min(loss['val_loss']))\n",
    "    print(f\"Epoch: {np.argmin(loss['val_loss'])}\")\n"
   ]
  },
  {
   "cell_type": "code",
   "execution_count": null,
   "metadata": {},
   "outputs": [
    {
     "name": "stderr",
     "output_type": "stream",
     "text": [
      "/tmp/ipykernel_321809/809640132.py:99: RuntimeWarning: overflow encountered in square\n",
      "  ax[1].scatter(data[:amount, 2], np.sqrt(data[:amount, 0]**2 + data[:amount,1]**2), label=\"predicted\", s=1)\n",
      "/tmp/ipykernel_321809/809640132.py:99: RuntimeWarning: overflow encountered in add\n",
      "  ax[1].scatter(data[:amount, 2], np.sqrt(data[:amount, 0]**2 + data[:amount,1]**2), label=\"predicted\", s=1)\n",
      "/tmp/ipykernel_321809/809640132.py:99: RuntimeWarning: overflow encountered in square\n",
      "  ax[1].scatter(data[:amount, 2], np.sqrt(data[:amount, 0]**2 + data[:amount,1]**2), label=\"predicted\", s=1)\n",
      "/tmp/ipykernel_321809/809640132.py:99: RuntimeWarning: overflow encountered in add\n",
      "  ax[1].scatter(data[:amount, 2], np.sqrt(data[:amount, 0]**2 + data[:amount,1]**2), label=\"predicted\", s=1)\n",
      "/tmp/ipykernel_321809/809640132.py:99: RuntimeWarning: overflow encountered in square\n",
      "  ax[1].scatter(data[:amount, 2], np.sqrt(data[:amount, 0]**2 + data[:amount,1]**2), label=\"predicted\", s=1)\n",
      "/tmp/ipykernel_321809/809640132.py:99: RuntimeWarning: overflow encountered in add\n",
      "  ax[1].scatter(data[:amount, 2], np.sqrt(data[:amount, 0]**2 + data[:amount,1]**2), label=\"predicted\", s=1)\n",
      "/tmp/ipykernel_321809/809640132.py:99: RuntimeWarning: overflow encountered in square\n",
      "  ax[1].scatter(data[:amount, 2], np.sqrt(data[:amount, 0]**2 + data[:amount,1]**2), label=\"predicted\", s=1)\n",
      "/tmp/ipykernel_321809/809640132.py:99: RuntimeWarning: overflow encountered in add\n",
      "  ax[1].scatter(data[:amount, 2], np.sqrt(data[:amount, 0]**2 + data[:amount,1]**2), label=\"predicted\", s=1)\n",
      "/tmp/ipykernel_321809/809640132.py:99: RuntimeWarning: overflow encountered in square\n",
      "  ax[1].scatter(data[:amount, 2], np.sqrt(data[:amount, 0]**2 + data[:amount,1]**2), label=\"predicted\", s=1)\n",
      "/tmp/ipykernel_321809/809640132.py:99: RuntimeWarning: overflow encountered in add\n",
      "  ax[1].scatter(data[:amount, 2], np.sqrt(data[:amount, 0]**2 + data[:amount,1]**2), label=\"predicted\", s=1)\n",
      "/tmp/ipykernel_321809/809640132.py:99: RuntimeWarning: overflow encountered in square\n",
      "  ax[1].scatter(data[:amount, 2], np.sqrt(data[:amount, 0]**2 + data[:amount,1]**2), label=\"predicted\", s=1)\n",
      "/tmp/ipykernel_321809/809640132.py:99: RuntimeWarning: overflow encountered in add\n",
      "  ax[1].scatter(data[:amount, 2], np.sqrt(data[:amount, 0]**2 + data[:amount,1]**2), label=\"predicted\", s=1)\n",
      "/tmp/ipykernel_321809/809640132.py:99: RuntimeWarning: overflow encountered in square\n",
      "  ax[1].scatter(data[:amount, 2], np.sqrt(data[:amount, 0]**2 + data[:amount,1]**2), label=\"predicted\", s=1)\n",
      "/tmp/ipykernel_321809/809640132.py:99: RuntimeWarning: overflow encountered in add\n",
      "  ax[1].scatter(data[:amount, 2], np.sqrt(data[:amount, 0]**2 + data[:amount,1]**2), label=\"predicted\", s=1)\n",
      "/tmp/ipykernel_321809/809640132.py:99: RuntimeWarning: overflow encountered in square\n",
      "  ax[1].scatter(data[:amount, 2], np.sqrt(data[:amount, 0]**2 + data[:amount,1]**2), label=\"predicted\", s=1)\n",
      "/tmp/ipykernel_321809/809640132.py:99: RuntimeWarning: overflow encountered in add\n",
      "  ax[1].scatter(data[:amount, 2], np.sqrt(data[:amount, 0]**2 + data[:amount,1]**2), label=\"predicted\", s=1)\n",
      "/tmp/ipykernel_321809/809640132.py:99: RuntimeWarning: overflow encountered in square\n",
      "  ax[1].scatter(data[:amount, 2], np.sqrt(data[:amount, 0]**2 + data[:amount,1]**2), label=\"predicted\", s=1)\n",
      "/tmp/ipykernel_321809/809640132.py:99: RuntimeWarning: overflow encountered in add\n",
      "  ax[1].scatter(data[:amount, 2], np.sqrt(data[:amount, 0]**2 + data[:amount,1]**2), label=\"predicted\", s=1)\n",
      "/tmp/ipykernel_321809/809640132.py:99: RuntimeWarning: overflow encountered in square\n",
      "  ax[1].scatter(data[:amount, 2], np.sqrt(data[:amount, 0]**2 + data[:amount,1]**2), label=\"predicted\", s=1)\n",
      "/tmp/ipykernel_321809/809640132.py:99: RuntimeWarning: overflow encountered in add\n",
      "  ax[1].scatter(data[:amount, 2], np.sqrt(data[:amount, 0]**2 + data[:amount,1]**2), label=\"predicted\", s=1)\n",
      "/tmp/ipykernel_321809/809640132.py:99: RuntimeWarning: overflow encountered in square\n",
      "  ax[1].scatter(data[:amount, 2], np.sqrt(data[:amount, 0]**2 + data[:amount,1]**2), label=\"predicted\", s=1)\n",
      "/tmp/ipykernel_321809/809640132.py:99: RuntimeWarning: overflow encountered in add\n",
      "  ax[1].scatter(data[:amount, 2], np.sqrt(data[:amount, 0]**2 + data[:amount,1]**2), label=\"predicted\", s=1)\n",
      "/tmp/ipykernel_321809/809640132.py:99: RuntimeWarning: overflow encountered in square\n",
      "  ax[1].scatter(data[:amount, 2], np.sqrt(data[:amount, 0]**2 + data[:amount,1]**2), label=\"predicted\", s=1)\n",
      "/tmp/ipykernel_321809/809640132.py:99: RuntimeWarning: overflow encountered in add\n",
      "  ax[1].scatter(data[:amount, 2], np.sqrt(data[:amount, 0]**2 + data[:amount,1]**2), label=\"predicted\", s=1)\n",
      "/tmp/ipykernel_321809/809640132.py:99: RuntimeWarning: overflow encountered in square\n",
      "  ax[1].scatter(data[:amount, 2], np.sqrt(data[:amount, 0]**2 + data[:amount,1]**2), label=\"predicted\", s=1)\n",
      "/tmp/ipykernel_321809/809640132.py:99: RuntimeWarning: overflow encountered in add\n",
      "  ax[1].scatter(data[:amount, 2], np.sqrt(data[:amount, 0]**2 + data[:amount,1]**2), label=\"predicted\", s=1)\n",
      "/tmp/ipykernel_321809/809640132.py:99: RuntimeWarning: overflow encountered in square\n",
      "  ax[1].scatter(data[:amount, 2], np.sqrt(data[:amount, 0]**2 + data[:amount,1]**2), label=\"predicted\", s=1)\n",
      "/tmp/ipykernel_321809/809640132.py:99: RuntimeWarning: overflow encountered in add\n",
      "  ax[1].scatter(data[:amount, 2], np.sqrt(data[:amount, 0]**2 + data[:amount,1]**2), label=\"predicted\", s=1)\n",
      "/tmp/ipykernel_321809/809640132.py:99: RuntimeWarning: overflow encountered in square\n",
      "  ax[1].scatter(data[:amount, 2], np.sqrt(data[:amount, 0]**2 + data[:amount,1]**2), label=\"predicted\", s=1)\n",
      "/tmp/ipykernel_321809/809640132.py:99: RuntimeWarning: overflow encountered in add\n",
      "  ax[1].scatter(data[:amount, 2], np.sqrt(data[:amount, 0]**2 + data[:amount,1]**2), label=\"predicted\", s=1)\n",
      "/tmp/ipykernel_321809/809640132.py:99: RuntimeWarning: overflow encountered in square\n",
      "  ax[1].scatter(data[:amount, 2], np.sqrt(data[:amount, 0]**2 + data[:amount,1]**2), label=\"predicted\", s=1)\n",
      "/tmp/ipykernel_321809/809640132.py:99: RuntimeWarning: overflow encountered in add\n",
      "  ax[1].scatter(data[:amount, 2], np.sqrt(data[:amount, 0]**2 + data[:amount,1]**2), label=\"predicted\", s=1)\n"
     ]
    }
   ],
   "source": [
    "# Load the data\n",
    "if version[-1] == \"0\":\n",
    "    inpu = np.load(f\"../../Data/test_data_{windowsize}/test_input.npy\")\n",
    "    inpu_id = np.load(f\"../../Data/test_data_{windowsize}/test_id.npy\")\n",
    "else:\n",
    "    inpu = np.load(f\"../../Data/test_data_{windowsize}_backwards/test_input.npy\")\n",
    "    inpu_id = np.load(f\"../../Data/test_data_{windowsize}_backwards/test_id.npy\")\n",
    "\n",
    "amount = 10_000\n",
    "if fl == 16:\n",
    "    inpu = inpu.astype(np.float16)\n",
    "    inpu_id = inpu_id.astype(np.float16)\n",
    "else:\n",
    "    inpu = inpu.astype(np.float32)\n",
    "    inpu_id = inpu_id.astype(np.float32)\n",
    "networks += [\"dart1\", \"dart2\", \"rf1\", \"rf2\", \"gbdt1\", \"gbdt2\"]\n",
    "stds = []\n",
    "for network in networks:\n",
    "    if network != \"dart1\" and network != \"dart2\" and network != \"rf1\" and network != \"rf2\" and network != \"gbdt1\" and network != \"gbdt2\":\n",
    "        if version[-1] == \"0\":\n",
    "            true_data = np.load(f\"../../Data/test_data_{windowsize}/test_target.npy\")\n",
    "        else:\n",
    "            true_data = np.load(f\"../../Data/test_data_{windowsize}_backwards/test_target.npy\")\n",
    "        true_data[:, 0] = true_data[:, 0] * 1015\n",
    "        true_data[:, 1] = true_data[:, 1] * 1015\n",
    "        true_data[:, 2] = true_data[:, 2] * 3000\n",
    "        if fl == 16:\n",
    "            init_model = onnx.load(f\"../../final/models/onnx/{network}_{version}_fp16_{old_cluster}.onnx\")\n",
    "        else:\n",
    "            init_model = onnx.load(f\"../../final/models/onnx/{network}_{version}_{old_cluster}.onnx\")\n",
    "        ort_session = ort.InferenceSession(init_model.SerializeToString())\n",
    "        # The input name is the name of the input layer\n",
    "        input_dict = {}\n",
    "        for i, name in enumerate(ort_session.get_inputs()):\n",
    "            if i == 0:\n",
    "                input_dict[name.name] = inpu.reshape(-1,*ort_session.get_inputs()[0].shape[1:])\n",
    "            if i == 1:\n",
    "                input_dict[name.name] = inpu_id.reshape(-1,*ort_session.get_inputs()[1].shape[1:])\n",
    "        data = ort_session.run([ort_session.get_outputs()[0].name], input_dict)[0]\n",
    "    elif network[-1] == \"1\":\n",
    "        data = np.vstack((np.load(f\"../../final/models/verstack/tuned0_predict_{network[:-1]}_{version}.npy\"), np.load(f\"../../final/models/verstack/tuned1_predict_{network[:-1]}_{version}.npy\"), np.load(f\"../../final/models/verstack/tuned2_predict_{network[:-1]}_{version}.npy\"))).T\n",
    "        true_data = np.vstack((np.load(f\"../../final/models/verstack/y0_{version}.npy\"), np.load(f\"../../final/models/verstack/y1_{version}.npy\"), np.load(f\"../../final/models/verstack/y2_{version}.npy\"))).T\n",
    "        true_data[:, 0] = true_data[:, 0] * 1015\n",
    "        true_data[:, 1] = true_data[:, 1] * 1015\n",
    "        true_data[:, 2] = true_data[:, 2] * 3000\n",
    "\n",
    "    elif network[-1] == \"2\":\n",
    "        data = np.vstack((np.load(f\"../../final/models/verstack/tuned01_predict_{network[:-1]}_{version}.npy\"), np.load(f\"../../final/models/verstack/tuned11_predict_{network[:-1]}_{version}.npy\"), np.load(f\"../../final/models/verstack/tuned21_predict_{network[:-1]}_{version}.npy\"))).T\n",
    "        true_data = np.vstack((np.load(f\"../../final/models/verstack/y0_{version}.npy\"), np.load(f\"../../final/models/verstack/y1_{version}.npy\"), np.load(f\"../../final/models/verstack/y2_{version}.npy\"))).T\n",
    "        true_data[:, 0] = true_data[:, 0] * 1015\n",
    "        true_data[:, 1] = true_data[:, 1] * 1015\n",
    "        true_data[:, 2] = true_data[:, 2] * 3000\n",
    "    else:\n",
    "        raise ValueError(\"Network not found\")\n",
    "\n",
    "    # Run the model\n",
    "    \n",
    "    data[:, 0] = data[:, 0] * 1015\n",
    "    data[:, 1] = data[:, 1] * 1015\n",
    "    data[:, 2] = data[:, 2] * 3000\n",
    "    \n",
    "    std = np.std(data - true_data, axis=0)\n",
    "    stds.append(std)\n",
    "    mean = np.mean(data - true_data, axis=0)\n",
    "    fig, ax = plt.subplots(1, 3, figsize=(10, 6))\n",
    "    for j in range(3):\n",
    "        sns.histplot(data[:, j] - true_data[:, j],bins=100, ax=ax[j], edgecolor='black', linewidth=0.5)\n",
    "        ax[j].set_ylabel(\"\")\n",
    "        ax[j].set_title(f\"{['x[mm]', 'y[mm]', 'z[mm]'][j]}\")\n",
    "        # Make a legend that shows the mean and std of the difference in x and y and z between the true and predicted values per axis   \n",
    "        ax[j].legend([f\"mean: {mean[j]:.2f}, std: {std[j]:.2f}\"])\n",
    "        ax[j].grid()\n",
    "    # Make one x label and one y label for the whole figure\n",
    "    fig.text(0.5, 0, 'Difference between predicted and true', ha='center')\n",
    "    fig.text(0, 0.5, 'Count', va='center', rotation='vertical')\n",
    "    # Make a title for the whole figure\n",
    "    if network != \"dart1\" and network != \"dart2\" and network != \"rf1\" and network != \"rf2\" and network != \"gbdt1\" and network != \"gbdt2\":\n",
    "        fig.suptitle(f\"{network} performance for window size of {windowsize}\" + (\" inside-out\" if version[-1] == \"0\" else \" outside-in\") + f\" with float{fl}\")\n",
    "    else:\n",
    "        fig.suptitle(f\"{network} performance for window size of {windowsize}\" + (\" inside-out\" if version[-1] == \"0\" else \" outside-in\") + f\" with float32\")\n",
    "    plt.tight_layout()\n",
    "    #plt.show()\n",
    "    if fl == 16 and network != \"dart1\" and network != \"dart2\" and network != \"rf1\" and network != \"rf2\" and network != \"gbdt1\" and network != \"gbdt2\":\n",
    "        plt.savefig(f\"../../final/histogram/{network}_{version}_fp16.pdf\")\n",
    "    else:\n",
    "        plt.savefig(f\"../../final/histogram/{network}_{version}.pdf\")\n",
    "    plt.close()\n",
    "\n",
    "    # Make a scatter plot of x and y axis of the true and predicted values with the true and predicted values as different colors and x and z\n",
    "\n",
    "\n",
    "    fig, ax = plt.subplots(1, 2, figsize=(10, 6))\n",
    "\n",
    "    ax[0].scatter(data[:amount, 0], data[:amount, 1], label=\"predicted\", s=1)\n",
    "    ax[0].scatter(true_data[:amount, 0], true_data[:amount, 1], label=\"true\", s=1)\n",
    "    ax[0].set_xlabel(\"x [mm]\")\n",
    "    ax[0].set_ylabel(\"y [mm]\")\n",
    "    ax[0].grid()\n",
    "    ax[0].legend()\n",
    "\n",
    "\n",
    "    ax[1].scatter(data[:amount, 2], np.sqrt(data[:amount, 0]**2 + data[:amount,1]**2), label=\"predicted\", s=1)\n",
    "    ax[1].scatter(true_data[:amount, 2], np.sqrt(true_data[:amount, 0]**2 + true_data[:amount,1]**2), label=\"true\", s=1)\n",
    "    ax[1].set_xlabel(\"z [mm]\")\n",
    "    ax[1].set_ylabel(\"r [mm]\")\n",
    "    ax[1].grid()\n",
    "    ax[1].legend()\n",
    "    if network != \"dart1\" and network != \"dart2\" and network != \"rf1\" and network != \"rf2\" and network != \"gbdt1\" and network != \"gbdt2\":\n",
    "        fig.suptitle(f\"{network} x-y and z-r scatter plot for window size of {windowsize}\" + (\" inside-out\" if version[-1] == \"0\" else \" outside-in\") + f\" with float{fl}\")\n",
    "    else:\n",
    "        fig.suptitle(f\"{network} x-y and z-r scatter plot for window size of {windowsize}\" + (\" inside-out\" if version[-1] == \"0\" else \" outside-in\") + f\" with float32\")\n",
    "    plt.tight_layout()\n",
    "    #plt.show()\n",
    "    if fl == 16 and network != \"dart1\" and network != \"dart2\" and network != \"rf1\" and network != \"rf2\" and network != \"gbdt1\" and network != \"gbdt2\":\n",
    "        plt.savefig(f\"../../final/scatter_plot/{network}_{version}_fp16.pdf\")\n",
    "    else:\n",
    "        plt.savefig(f\"../../final/scatter_plot/{network}_{version}.pdf\")\n",
    "    plt.close()"
   ]
  },
  {
   "cell_type": "code",
   "execution_count": 5,
   "metadata": {},
   "outputs": [
    {
     "name": "stderr",
     "output_type": "stream",
     "text": [
      "/tmp/ipykernel_321809/4088706848.py:10: UserWarning: set_ticklabels() should only be used with a fixed number of ticks, i.e. after set_ticks() or using a FixedLocator.\n",
      "  ax[j].set_xticklabels(networks, rotation=45, ha=\"right\")\n",
      "/tmp/ipykernel_321809/4088706848.py:10: UserWarning: set_ticklabels() should only be used with a fixed number of ticks, i.e. after set_ticks() or using a FixedLocator.\n",
      "  ax[j].set_xticklabels(networks, rotation=45, ha=\"right\")\n",
      "/tmp/ipykernel_321809/4088706848.py:10: UserWarning: set_ticklabels() should only be used with a fixed number of ticks, i.e. after set_ticks() or using a FixedLocator.\n",
      "  ax[j].set_xticklabels(networks, rotation=45, ha=\"right\")\n"
     ]
    }
   ],
   "source": [
    "#make a bar plot of the stds using seaborn\n",
    "fig, ax = plt.subplots(1,3, figsize=(18, 6))\n",
    "for j in range(3):\n",
    "    sns.barplot(x=networks, y=[std[j] for std in stds], ax=ax[j], linewidth=1.5, edgecolor=\"black\", )\n",
    "    ax[j].set_title(f\"{['x[mm]', 'y[mm]', 'z[mm]'][j]}\")\n",
    "    if j == 1:\n",
    "        ax[j].set_xlabel(\"Network\")\n",
    "    if j == 0:\n",
    "        ax[j].set_ylabel(\"std\")\n",
    "    ax[j].set_xticklabels(networks, rotation=45, ha=\"right\")\n",
    "    ax[j].set_ylim(0, 12)\n",
    "    ax[j].grid()\n",
    "    for p in ax[j].patches:\n",
    "        ax[j].annotate(format(p.get_height(), '.3g'), \n",
    "                    (p.get_x() + p.get_width() / 2., np.amin([p.get_height()-0.2,11.5])), \n",
    "                    ha = 'center', va = 'center', \n",
    "                    xytext = (0, -10), \n",
    "                    textcoords = 'offset points',\n",
    "                    color='white', rotation=90)\n",
    "sns.despine(right=False, top=True)\n",
    "fig.suptitle(f\"Standard deviation of the difference between predicted and true values for window size of {windowsize}\" + (\" inside-out\" if version[-1] == \"0\" else \" outside-in\") + f\" with float{fl}\")\n",
    "plt.tight_layout()\n",
    "#plt.show()\n",
    "if fl == 16:\n",
    "    plt.savefig(f\"../../final/std_barplot/{version}_fp16.pdf\")\n",
    "else:\n",
    "    plt.savefig(f\"../../final/std_barplot/{version}.pdf\")\n",
    "plt.close()\n"
   ]
  }
 ],
 "metadata": {
  "kernelspec": {
   "display_name": "trackml",
   "language": "python",
   "name": "python3"
  },
  "language_info": {
   "codemirror_mode": {
    "name": "ipython",
    "version": 3
   },
   "file_extension": ".py",
   "mimetype": "text/x-python",
   "name": "python",
   "nbconvert_exporter": "python",
   "pygments_lexer": "ipython3",
   "version": "3.9.0"
  }
 },
 "nbformat": 4,
 "nbformat_minor": 2
}
